{
 "cells": [
  {
   "cell_type": "code",
   "execution_count": 1,
   "id": "d4e6aada-9da9-499b-85a5-9d2afc6128b9",
   "metadata": {},
   "outputs": [],
   "source": [
    "import pandas as pd\n",
    "df = pd.read_parquet(\"GUIDE_train_Feature_engineered_2.parquet\")"
   ]
  },
  {
   "cell_type": "code",
   "execution_count": 2,
   "id": "de753643-793f-4e6e-9cf4-b910bcbaf2ad",
   "metadata": {},
   "outputs": [],
   "source": [
    "from sklearn.model_selection import train_test_split\n",
    "\n",
    "X = df.drop(columns=['IncidentGrade'])\n",
    "y = df['IncidentGrade']\n",
    "\n",
    "X_train, X_test, y_train, y_test = train_test_split(\n",
    "    X, y, test_size=0.3, stratify=y, random_state=42)\n",
    "\n",
    "from sklearn.ensemble import RandomForestClassifier\n",
    "from sklearn.metrics import classification_report, accuracy_score\n",
    "\n",
    "# Initialize the Random Forest model with default parameters\n",
    "rf = RandomForestClassifier(random_state=42)\n",
    "\n",
    "# Train the model on the training data\n",
    "rf.fit(X_train, y_train)\n",
    "\n",
    "# Make predictions on the validation set (or test set if you have one)\n",
    "y_pred = rf.predict(X_test)\n",
    "\n",
    "import pickle\n",
    "\n",
    "# Specify the filename for the model\n",
    "filename = 'random_forest_model.pkl'\n",
    "\n",
    "# Save the model to disk\n",
    "with open(filename, 'wb') as file:\n",
    "    pickle.dump(rf, file)\n",
    "\n",
    "print(f\"Model saved as {filename}\")"
   ]
  },
  {
   "cell_type": "code",
   "execution_count": 15,
   "id": "a0414cfd-b10a-49c2-bae2-272043c7e522",
   "metadata": {},
   "outputs": [
    {
     "name": "stdout",
     "output_type": "stream",
     "text": [
      "Accuracy: 0.8904511695538022\n",
      "Classification Report:\n",
      "               precision    recall  f1-score   support\n",
      "\n",
      "           0       0.90      0.92      0.91    587318\n",
      "           1       0.89      0.87      0.88    587318\n",
      "           2       0.88      0.88      0.88    587318\n",
      "\n",
      "    accuracy                           0.89   1761954\n",
      "   macro avg       0.89      0.89      0.89   1761954\n",
      "weighted avg       0.89      0.89      0.89   1761954\n",
      "\n"
     ]
    }
   ],
   "source": [
    "import pickle\n",
    "\n",
    "# Specify the filename for the model\n",
    "filename = 'random_forest_model.pkl'\n",
    "\n",
    "# Load the model from disk\n",
    "with open(filename, 'rb') as file:\n",
    "    rf = pickle.load(file)\n",
    "\n",
    "print(\"Model loaded successfully\")\n",
    "\n",
    "y_pred = rf.predict(X_test)\n",
    "\n",
    "from sklearn.ensemble import RandomForestClassifier\n",
    "from sklearn.metrics import classification_report, accuracy_score\n",
    "\n",
    "# Evaluate the model performance\n",
    "print(\"Accuracy:\", accuracy_score(y_test, y_pred))\n",
    "print(\"Classification Report:\\n\", classification_report(y_test, y_pred))"
   ]
  },
  {
   "cell_type": "code",
   "execution_count": 19,
   "id": "27e8c1b1-bffb-4e88-a00d-21547d389074",
   "metadata": {},
   "outputs": [
    {
     "name": "stdout",
     "output_type": "stream",
     "text": [
      "n_estimators: 100\n",
      "max_depth: None\n",
      "min_samples_split: 2\n",
      "min_samples_leaf: 1\n"
     ]
    }
   ],
   "source": [
    "print(f\"n_estimators: {rf.n_estimators}\")\n",
    "print(f\"max_depth: {rf.max_depth}\")\n",
    "print(f\"min_samples_split: {rf.min_samples_split}\")\n",
    "print(f\"min_samples_leaf: {rf.min_samples_leaf}\")"
   ]
  },
  {
   "cell_type": "code",
   "execution_count": null,
   "id": "4956ba52-1e39-4439-9e8e-043466b718ff",
   "metadata": {},
   "outputs": [],
   "source": []
  },
  {
   "cell_type": "code",
   "execution_count": 22,
   "id": "7c4d3d74-a6c6-4c50-8274-38a14a8e6e8b",
   "metadata": {},
   "outputs": [
    {
     "name": "stderr",
     "output_type": "stream",
     "text": [
      "C:\\Users\\naray\\AppData\\Local\\Temp\\ipykernel_6412\\776090493.py:2: DtypeWarning: Columns (10,11) have mixed types. Specify dtype option on import or set low_memory=False.\n",
      "  df_test = pd.read_csv('Data/Guide_test.csv')\n"
     ]
    }
   ],
   "source": [
    "import pandas as pd\n",
    "df_test = pd.read_csv('Data/Guide_test.csv')\n",
    "\n",
    "# 1. Drop `OSFamily` (Keep `OSVersion`)\n",
    "df_test.drop(columns=['OSFamily'], inplace = True)\n",
    "\n",
    "\n",
    "# 2. Drop `City` (Keep `State`)\n",
    "df_test.drop(columns=['City'], inplace = True)\n",
    "\n",
    "# 3. Drop `ApplicationId` (Keep `ApplicationName`)\n",
    "df_test.drop(columns=['ApplicationId'], inplace = True)\n",
    "\n",
    "# 4. Drop `AccountObjectId` (Keep `AccountSid`)\n",
    "df_test.drop(columns=['AccountObjectId'], inplace = True)\n",
    "\n",
    "# 5. Keep both `AccountName` and `AccountSid`\n",
    "\n",
    "# 6. Drop `CountryCode` (Keep `State`)\n",
    "df_test.drop(columns=['CountryCode'], inplace = True)\n",
    "\n",
    "\n",
    "# Convert FolderPath and FileName to string in case they are not\n",
    "df_test['FolderPath'] = df_test['FolderPath'].astype(str)\n",
    "df_test['FileName'] = df_test['FileName'].astype(str)\n",
    "\n",
    "# Combine `FileName` and `FolderPath` into `FullFilePath`, then drop the original columns\n",
    "df_test['FullFilePath'] = df_test['FolderPath'].str.rstrip('/') + '/' + df_test['FileName']\n",
    "df_test = df_test.drop(columns=['FileName', 'FolderPath'])\n",
    "\n",
    "# 8. Keep both `RegistryValueName` and `RegistryValueData`\n",
    "\n",
    "# 9. Drop `FileName` (Keep `Sha256`)\n",
    "# Note: Already handled in step 7 by combining with `FolderPath`\n",
    "\n",
    "# 10. Keep both `DeviceId` and `DeviceName`\n",
    "\n",
    "# 11. Drop `AccountObjectId` (Keep `AccountUpn`)\n",
    "# Note: Already handled in step 4\n",
    "\n",
    "# Display the updated DataFrame\n",
    "\n",
    "import numpy as np\n",
    "\n",
    "hour = pd.to_datetime(df_test['Timestamp']).dt.hour\n",
    "df_test['Timestamp'] = np.where((0 <= hour) & (hour < 2), 0,\n",
    "                    np.where((2 <= hour) & (hour < 4), 1,\n",
    "                    np.where((4 <= hour) & (hour < 6), 2,\n",
    "                    np.where((6 <= hour) & (hour < 8), 3,\n",
    "                    np.where((8 <= hour) & (hour < 10), 4,\n",
    "                    np.where((10 <= hour) & (hour < 12), 5,\n",
    "                    np.where((12 <= hour) & (hour < 14), 6,\n",
    "                    np.where((14 <= hour) & (hour < 16), 7,\n",
    "                    np.where((16 <= hour) & (hour < 18), 8,\n",
    "                    np.where((18 <= hour) & (hour < 20), 9,\n",
    "                    np.where((20 <= hour) & (hour < 22), 10, 11)))))))))))"
   ]
  },
  {
   "cell_type": "code",
   "execution_count": 25,
   "id": "525aaf9f-87ae-416b-8f7b-4fe9644e01e6",
   "metadata": {},
   "outputs": [
    {
     "name": "stderr",
     "output_type": "stream",
     "text": [
      "C:\\Users\\naray\\anaconda3\\Lib\\site-packages\\category_encoders\\ordinal.py:198: FutureWarning: Downcasting object dtype arrays on .fillna, .ffill, .bfill is deprecated and will change in a future version. Call result.infer_objects(copy=False) instead. To opt-in to the future behavior, set `pd.set_option('future.no_silent_downcasting', True)`\n",
      "  X[column] = X[column].astype(\"object\").fillna(np.nan).map(col_mapping)\n",
      "C:\\Users\\naray\\anaconda3\\Lib\\site-packages\\category_encoders\\ordinal.py:198: FutureWarning: Downcasting object dtype arrays on .fillna, .ffill, .bfill is deprecated and will change in a future version. Call result.infer_objects(copy=False) instead. To opt-in to the future behavior, set `pd.set_option('future.no_silent_downcasting', True)`\n",
      "  X[column] = X[column].astype(\"object\").fillna(np.nan).map(col_mapping)\n",
      "C:\\Users\\naray\\anaconda3\\Lib\\site-packages\\category_encoders\\ordinal.py:198: FutureWarning: Downcasting object dtype arrays on .fillna, .ffill, .bfill is deprecated and will change in a future version. Call result.infer_objects(copy=False) instead. To opt-in to the future behavior, set `pd.set_option('future.no_silent_downcasting', True)`\n",
      "  X[column] = X[column].astype(\"object\").fillna(np.nan).map(col_mapping)\n",
      "C:\\Users\\naray\\anaconda3\\Lib\\site-packages\\category_encoders\\ordinal.py:198: FutureWarning: Downcasting object dtype arrays on .fillna, .ffill, .bfill is deprecated and will change in a future version. Call result.infer_objects(copy=False) instead. To opt-in to the future behavior, set `pd.set_option('future.no_silent_downcasting', True)`\n",
      "  X[column] = X[column].astype(\"object\").fillna(np.nan).map(col_mapping)\n",
      "C:\\Users\\naray\\anaconda3\\Lib\\site-packages\\category_encoders\\ordinal.py:198: FutureWarning: Downcasting object dtype arrays on .fillna, .ffill, .bfill is deprecated and will change in a future version. Call result.infer_objects(copy=False) instead. To opt-in to the future behavior, set `pd.set_option('future.no_silent_downcasting', True)`\n",
      "  X[column] = X[column].astype(\"object\").fillna(np.nan).map(col_mapping)\n",
      "C:\\Users\\naray\\anaconda3\\Lib\\site-packages\\category_encoders\\ordinal.py:198: FutureWarning: Downcasting object dtype arrays on .fillna, .ffill, .bfill is deprecated and will change in a future version. Call result.infer_objects(copy=False) instead. To opt-in to the future behavior, set `pd.set_option('future.no_silent_downcasting', True)`\n",
      "  X[column] = X[column].astype(\"object\").fillna(np.nan).map(col_mapping)\n",
      "C:\\Users\\naray\\anaconda3\\Lib\\site-packages\\category_encoders\\ordinal.py:198: FutureWarning: Downcasting object dtype arrays on .fillna, .ffill, .bfill is deprecated and will change in a future version. Call result.infer_objects(copy=False) instead. To opt-in to the future behavior, set `pd.set_option('future.no_silent_downcasting', True)`\n",
      "  X[column] = X[column].astype(\"object\").fillna(np.nan).map(col_mapping)\n",
      "C:\\Users\\naray\\anaconda3\\Lib\\site-packages\\category_encoders\\ordinal.py:198: FutureWarning: Downcasting object dtype arrays on .fillna, .ffill, .bfill is deprecated and will change in a future version. Call result.infer_objects(copy=False) instead. To opt-in to the future behavior, set `pd.set_option('future.no_silent_downcasting', True)`\n",
      "  X[column] = X[column].astype(\"object\").fillna(np.nan).map(col_mapping)\n",
      "C:\\Users\\naray\\anaconda3\\Lib\\site-packages\\category_encoders\\ordinal.py:198: FutureWarning: Downcasting object dtype arrays on .fillna, .ffill, .bfill is deprecated and will change in a future version. Call result.infer_objects(copy=False) instead. To opt-in to the future behavior, set `pd.set_option('future.no_silent_downcasting', True)`\n",
      "  X[column] = X[column].astype(\"object\").fillna(np.nan).map(col_mapping)\n",
      "C:\\Users\\naray\\anaconda3\\Lib\\site-packages\\category_encoders\\ordinal.py:198: FutureWarning: Downcasting object dtype arrays on .fillna, .ffill, .bfill is deprecated and will change in a future version. Call result.infer_objects(copy=False) instead. To opt-in to the future behavior, set `pd.set_option('future.no_silent_downcasting', True)`\n",
      "  X[column] = X[column].astype(\"object\").fillna(np.nan).map(col_mapping)\n",
      "C:\\Users\\naray\\anaconda3\\Lib\\site-packages\\category_encoders\\ordinal.py:198: FutureWarning: Downcasting object dtype arrays on .fillna, .ffill, .bfill is deprecated and will change in a future version. Call result.infer_objects(copy=False) instead. To opt-in to the future behavior, set `pd.set_option('future.no_silent_downcasting', True)`\n",
      "  X[column] = X[column].astype(\"object\").fillna(np.nan).map(col_mapping)\n",
      "C:\\Users\\naray\\anaconda3\\Lib\\site-packages\\category_encoders\\ordinal.py:198: FutureWarning: Downcasting object dtype arrays on .fillna, .ffill, .bfill is deprecated and will change in a future version. Call result.infer_objects(copy=False) instead. To opt-in to the future behavior, set `pd.set_option('future.no_silent_downcasting', True)`\n",
      "  X[column] = X[column].astype(\"object\").fillna(np.nan).map(col_mapping)\n"
     ]
    }
   ],
   "source": [
    "from sklearn.preprocessing import OneHotEncoder, LabelEncoder\n",
    "import category_encoders as ce\n",
    "\n",
    "# One-Hot Encoding\n",
    "one_hot_columns = ['Category', 'EntityType', 'EvidenceRole']\n",
    "df_test = pd.get_dummies(df_test, columns=one_hot_columns)\n",
    "\n",
    "# Label Encoding\n",
    "label_enc = LabelEncoder()\n",
    "df_test['IncidentGrade'] = label_enc.fit_transform(df_test['IncidentGrade'])\n",
    "df_test['State'] = label_enc.fit_transform(df_test['State'])\n",
    "df_test['FullFilePath_encoded'] = label_enc.fit_transform(df_test['FullFilePath'])\n",
    "df_test.drop(columns=['FullFilePath'], inplace = True)\n",
    "\n",
    "# Target Encoding\n",
    "target_enc = ce.TargetEncoder(cols=['ApplicationName', 'DeviceName', 'AccountName'])\n",
    "df_test = target_enc.fit_transform(df_test, df_test['IncidentGrade'])\n",
    "\n",
    "# Verify the encoded data\n",
    "# print(df_test.head())"
   ]
  },
  {
   "cell_type": "code",
   "execution_count": 29,
   "id": "1f4a562a-6852-415c-a0c7-6aa027d41662",
   "metadata": {},
   "outputs": [
    {
     "name": "stdout",
     "output_type": "stream",
     "text": [
      "Model saved as final_features.pkl\n"
     ]
    }
   ],
   "source": [
    "final_features = list(df.columns)\n",
    "\n",
    "import pickle\n",
    "\n",
    "# Specify the filename for the model\n",
    "filename = 'final_features.pkl'\n",
    "\n",
    "# Save the model to disk\n",
    "with open(filename, 'wb') as file:\n",
    "    pickle.dump(final_features, file)\n",
    "\n",
    "print(f\"Model saved as {filename}\")\n",
    "\n",
    "# Load the model from disk\n",
    "with open('final_features.pkl', 'rb') as file:\n",
    "    final_features = pickle.load(file)"
   ]
  },
  {
   "cell_type": "code",
   "execution_count": 30,
   "id": "9a9505bc-0266-436a-b83e-92c4bee5d894",
   "metadata": {},
   "outputs": [],
   "source": [
    "missing_columns = [col for col in final_features if col not in list(df_test.columns)]\n",
    "for col in missing_columns:\n",
    "    df_test[col] = 0\n",
    "\n",
    "df_test1 = df_test[final_features]"
   ]
  },
  {
   "cell_type": "code",
   "execution_count": 34,
   "id": "45cd79d9-be2b-4100-897d-c338061a3763",
   "metadata": {},
   "outputs": [
    {
     "name": "stdout",
     "output_type": "stream",
     "text": [
      "Accuracy: 0.8322851153039832\n",
      "\n",
      "Classification Report:\n",
      "              precision    recall  f1-score   support\n",
      "\n",
      "           0       0.87      0.86      0.87   1752940\n",
      "           1       0.70      0.79      0.74    902698\n",
      "           2       0.88      0.82      0.85   1492354\n",
      "\n",
      "    accuracy                           0.83   4147992\n",
      "   macro avg       0.82      0.83      0.82   4147992\n",
      "weighted avg       0.84      0.83      0.83   4147992\n",
      "\n",
      "Macro-F1 Score: 0.820002170344648\n"
     ]
    }
   ],
   "source": [
    "# Load the model from disk\n",
    "with open('random_forest_model.pkl', 'rb') as file:\n",
    "    loaded_rf = pickle.load(file)\n",
    "\n",
    "# Ensure the same preprocessing steps are applied to the test data\n",
    "# For example, dropping unnecessary columns, handling missing values, etc.\n",
    "X_test_final = df_test1.drop(columns=['IncidentGrade'])  # Drop the target variable if present\n",
    "y_test_final = df_test1['IncidentGrade']  # Assuming 'IncidentGrade' is the target variable\n",
    "\n",
    "# Make predictions on the final test set\n",
    "y_pred_final = loaded_rf.predict(X_test_final)\n",
    "\n",
    "\n",
    "from sklearn.metrics import classification_report, accuracy_score, f1_score\n",
    "\n",
    "# Calculate accuracy\n",
    "accuracy = accuracy_score(y_test_final, y_pred_final)\n",
    "print(f\"Accuracy: {accuracy}\")\n",
    "\n",
    "# Detailed classification report\n",
    "print(\"\\nClassification Report:\")\n",
    "print(classification_report(y_test_final, y_pred_final))\n",
    "\n",
    "# Calculate macro-F1 score\n",
    "macro_f1 = f1_score(y_test_final, y_pred_final, average='macro')\n",
    "print(f\"Macro-F1 Score: {macro_f1}\")\n"
   ]
  },
  {
   "cell_type": "code",
   "execution_count": null,
   "id": "1f4ac37d-c72d-45da-a9e6-b2d72618ca6b",
   "metadata": {},
   "outputs": [],
   "source": []
  },
  {
   "cell_type": "code",
   "execution_count": null,
   "id": "5a3b47a8-7ab4-4bb0-b939-921516d342c2",
   "metadata": {},
   "outputs": [],
   "source": []
  },
  {
   "cell_type": "code",
   "execution_count": null,
   "id": "bf5e55ef-750b-4d91-9985-321a79ded318",
   "metadata": {},
   "outputs": [],
   "source": []
  },
  {
   "cell_type": "code",
   "execution_count": null,
   "id": "5e6f7e46-7b94-4b7c-ac8a-b0b6715f4b5c",
   "metadata": {},
   "outputs": [],
   "source": []
  },
  {
   "cell_type": "code",
   "execution_count": null,
   "id": "05321335-ed6b-41e0-b173-a08516c6b8d7",
   "metadata": {},
   "outputs": [],
   "source": []
  },
  {
   "cell_type": "code",
   "execution_count": null,
   "id": "174bee75-ef1f-412e-becb-ee5540f90291",
   "metadata": {},
   "outputs": [],
   "source": []
  },
  {
   "cell_type": "code",
   "execution_count": null,
   "id": "5cd22b87-d9fe-48e0-a240-e33ac5ebb55b",
   "metadata": {},
   "outputs": [],
   "source": []
  },
  {
   "cell_type": "code",
   "execution_count": null,
   "id": "62e9b27a-4fa5-4a92-aa68-deb502af4d62",
   "metadata": {},
   "outputs": [],
   "source": []
  },
  {
   "cell_type": "code",
   "execution_count": null,
   "id": "44a6f704-6353-4a97-8086-0d94f55fb92d",
   "metadata": {},
   "outputs": [],
   "source": []
  },
  {
   "cell_type": "code",
   "execution_count": null,
   "id": "9a146065-1e9f-4c0d-8f37-4afb680e00b8",
   "metadata": {},
   "outputs": [],
   "source": []
  },
  {
   "cell_type": "code",
   "execution_count": null,
   "id": "8b87704b-1ba5-4782-8d30-47fc8c698beb",
   "metadata": {},
   "outputs": [],
   "source": []
  }
 ],
 "metadata": {
  "kernelspec": {
   "display_name": "Python 3 (ipykernel)",
   "language": "python",
   "name": "python3"
  },
  "language_info": {
   "codemirror_mode": {
    "name": "ipython",
    "version": 3
   },
   "file_extension": ".py",
   "mimetype": "text/x-python",
   "name": "python",
   "nbconvert_exporter": "python",
   "pygments_lexer": "ipython3",
   "version": "3.12.4"
  }
 },
 "nbformat": 4,
 "nbformat_minor": 5
}
